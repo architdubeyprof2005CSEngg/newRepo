{
  "nbformat": 4,
  "nbformat_minor": 0,
  "metadata": {
    "colab": {
      "provenance": [],
      "authorship_tag": "ABX9TyM2YEPprrA017EFAevfDqbY",
      "include_colab_link": true
    },
    "kernelspec": {
      "name": "python3",
      "display_name": "Python 3"
    },
    "language_info": {
      "name": "python"
    }
  },
  "cells": [
    {
      "cell_type": "markdown",
      "metadata": {
        "id": "view-in-github",
        "colab_type": "text"
      },
      "source": [
        "<a href=\"https://colab.research.google.com/github/architdubeyprof2005CSEngg/newRepo/blob/main/DL.ipynb\" target=\"_parent\"><img src=\"https://colab.research.google.com/assets/colab-badge.svg\" alt=\"Open In Colab\"/></a>"
      ]
    },
    {
      "cell_type": "code",
      "execution_count": null,
      "metadata": {
        "id": "OfVCkHGii2WI"
      },
      "outputs": [],
      "source": [
        "n_inputs = int(input(\"\"))\n",
        "input_length = int(input(\"\"))\n",
        "input_matrix = []\n",
        "for i in range(n_inputs):\n",
        "    print(F\"enter {i+1}th input\")\n",
        "    input_ = []\n",
        "    for i in range(input_length):\n",
        "        value = float(input(\"value is: \"))\n",
        "        input_.append(value)\n",
        "    input_matrix.append(input_)\n",
        "print(input_matrix)\n",
        "\n",
        "weight_matrix = []\n",
        "import random\n",
        "#no of neurons in a layer = no of inputs by prev layer\n",
        "\n",
        "# for 1st hidden layer it will be equal to no of inputs , so taking no of neurons in l1 = no of inputs\n",
        "\n",
        "for i in range(n_inputs):\n",
        "    weights = []\n",
        "    for i in range(input_length):\n",
        "        value = random.uniform(-1,1)\n",
        "        weights.append(value)\n",
        "\n",
        "    weight_matrix.append(weights)\n",
        "print(\"weight matrix for layer is :\",weight_matrix)\n",
        "import numpy as np\n",
        "output = np.dot(weights,input_matrix)\n",
        "print(np.dot(weights,input_matrix))\n",
        "\n",
        "#now this output wil become input for next layer"
      ]
    }
  ]
}